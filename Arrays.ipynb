{
 "cells": [
  {
   "cell_type": "code",
   "execution_count": 60,
   "metadata": {},
   "outputs": [
    {
     "name": "stdout",
     "output_type": "stream",
     "text": [
      "original values before deepcopy\n",
      "2 3 5 7 11 13 15 17 19 \r\n",
      "new values after deepcopy\n",
      "20 3 5 7 11 13 15 17 19 \r\n",
      "original values after deepcopy\n",
      "2 3 5 7 11 13 15 17 19 "
     ]
    }
   ],
   "source": [
    "# Code showing the use of deepcopy\n",
    "# A copy of object is copied in other object. \n",
    "# It means that any changes made to a copy of object do not reflect in the original object.\n",
    "\n",
    "import copy\n",
    "primes = [2,3,5,7,11,13,15,17,19]\n",
    "backup = copy.deepcopy(primes)\n",
    "\n",
    "print(\"original values before deepcopy\")\n",
    "for i in range(len(primes)):\n",
    "    print(primes[i],end=\" \")\n",
    "print(\"\\r\")\n",
    "\n",
    "backup[0] = 20\n",
    "\n",
    "print(\"new values after deepcopy\")\n",
    "for i in range(len(primes)):\n",
    "    print(backup[i],end=\" \")\n",
    "print(\"\\r\")\n",
    "\n",
    "print(\"original values after deepcopy\")\n",
    "for i in range(len(primes)):\n",
    "    print(primes[i],end=\" \")\n",
    "    \n"
   ]
  },
  {
   "cell_type": "code",
   "execution_count": 62,
   "metadata": {},
   "outputs": [
    {
     "name": "stdout",
     "output_type": "stream",
     "text": [
      "original values before shallowcopy\n",
      "2 3 5 7 11 13 15 17 19 \r\n",
      "original values after shallowcopy\n",
      "2 3 5 7 11 13 15 17 19 "
     ]
    }
   ],
   "source": [
    "# Code showing the use of deepcopy\n",
    "# In case of shallow copy, a reference of object is copied in other object. \n",
    "# It means that any changes made to a copy of object do reflect in the original object.\n",
    "\n",
    "import copy\n",
    "primes = [2,3,5,7,11,13,15,17,19]\n",
    "backup = copy.copy(primes)\n",
    "\n",
    "print(\"original values before shallowcopy\")\n",
    "for i in range(len(primes)):\n",
    "    print(primes[i],end=\" \")\n",
    "print(\"\\r\")\n",
    "\n",
    "backup[0] = 4\n",
    "\n",
    "print(\"original values after shallowcopy\")\n",
    "for i in range(len(primes)):\n",
    "    print(primes[i],end=\" \")\n"
   ]
  },
  {
   "cell_type": "code",
   "execution_count": 3,
   "metadata": {},
   "outputs": [
    {
     "name": "stdout",
     "output_type": "stream",
     "text": [
      "Length:    0; Size in byte:  64\n",
      "Length:    1; Size in byte:  96\n",
      "Length:    2; Size in byte:  96\n",
      "Length:    3; Size in byte:  96\n",
      "Length:    4; Size in byte:  96\n",
      "Length:    5; Size in byte: 128\n",
      "Length:    6; Size in byte: 128\n",
      "Length:    7; Size in byte: 128\n",
      "Length:    8; Size in byte: 128\n",
      "Length:    9; Size in byte: 192\n",
      "Length:   10; Size in byte: 192\n",
      "Length:   11; Size in byte: 192\n",
      "Length:   12; Size in byte: 192\n",
      "Length:   13; Size in byte: 192\n",
      "Length:   14; Size in byte: 192\n",
      "Length:   15; Size in byte: 192\n",
      "Length:   16; Size in byte: 192\n",
      "Length:   17; Size in byte: 264\n",
      "Length:   18; Size in byte: 264\n",
      "Length:   19; Size in byte: 264\n",
      "Length:   20; Size in byte: 264\n",
      "Length:   21; Size in byte: 264\n",
      "Length:   22; Size in byte: 264\n",
      "Length:   23; Size in byte: 264\n",
      "Length:   24; Size in byte: 264\n",
      "Length:   25; Size in byte: 264\n",
      "Length:   26; Size in byte: 344\n",
      "Length:   27; Size in byte: 344\n",
      "Length:   28; Size in byte: 344\n",
      "Length:   29; Size in byte: 344\n",
      "Length:   30; Size in byte: 344\n",
      "Length:   31; Size in byte: 344\n",
      "Length:   32; Size in byte: 344\n",
      "Length:   33; Size in byte: 344\n",
      "Length:   34; Size in byte: 344\n",
      "Length:   35; Size in byte: 344\n",
      "Length:   36; Size in byte: 432\n",
      "Length:   37; Size in byte: 432\n",
      "Length:   38; Size in byte: 432\n",
      "Length:   39; Size in byte: 432\n",
      "Length:   40; Size in byte: 432\n",
      "Length:   41; Size in byte: 432\n",
      "Length:   42; Size in byte: 432\n",
      "Length:   43; Size in byte: 432\n",
      "Length:   44; Size in byte: 432\n",
      "Length:   45; Size in byte: 432\n",
      "Length:   46; Size in byte: 432\n",
      "Length:   47; Size in byte: 528\n",
      "Length:   48; Size in byte: 528\n",
      "Length:   49; Size in byte: 528\n"
     ]
    }
   ],
   "source": [
    "# To show that a list instance has greater capacity than current length\n",
    "# Import sys to get size of the data\n",
    "import sys\n",
    "n=50\n",
    "data = []\n",
    "for i in range(n):\n",
    "    a = len(data)\n",
    "    b = sys.getsizeof(data)\n",
    "    print(\"Length: {0:4d}; Size in byte: {1:3d}\".format(a,b))\n",
    "    data.append(n)\n",
    "    "
   ]
  },
  {
   "cell_type": "code",
   "execution_count": 1,
   "metadata": {},
   "outputs": [],
   "source": [
    "# Dynamic array implementation\n",
    "import ctypes\n",
    "\n",
    "class DynamicArray(object):\n",
    "    \n",
    "    def __init__(self):\n",
    "        self.n = 0\n",
    "        self.capacity = 1\n",
    "        self.A = self.make_array(self.capacity)\n",
    "    def __len__(self):\n",
    "        return self.n\n",
    "    def __getitem__(self,k):\n",
    "        if not 0<=k<n:\n",
    "            return Error\n",
    "        return self.A[k]\n",
    "    def append(self,element):\n",
    "        if(self.A==self.capacity):\n",
    "            self._resize(2*self.capacity)\n",
    "        element = self.A(self.n)\n",
    "        self.n +=1\n",
    "    def _resize(self,new_capacity):\n",
    "        B = self.make_array(new_capacity)\n",
    "        for k in range(self.n):\n",
    "            B[k] = self.A[k]\n",
    "        self.A[k] = B\n",
    "        self.capacity = new_capacity\n",
    "    def make_array(self,new_capacity):\n",
    "        return (new_capacity * ctypes.py_object)()\n",
    "        "
   ]
  },
  {
   "cell_type": "code",
   "execution_count": 2,
   "metadata": {},
   "outputs": [],
   "source": [
    "arr = DynamicArray()"
   ]
  },
  {
   "cell_type": "code",
   "execution_count": null,
   "metadata": {},
   "outputs": [],
   "source": []
  },
  {
   "cell_type": "markdown",
   "metadata": {},
   "source": [
    "# Anagram Check\n",
    "\n",
    "## Problem\n",
    "Given two strings, check to see if they are anagrams. An anagram is when the two strings can be written using the exact same letters (so you can just rearrange the letters to get a different phrase or word).\n",
    "\n",
    "For example:\n",
    "\n",
    "\"public relations\" is an anagram of \"crap built on lies.\"\n",
    "\n",
    "\"clint eastwood\" is an anagram of \"old west action\"\n",
    "\n",
    "Note: Ignore spaces and capitalization. So \"d go\" is an anagram of \"God\" and \"dog\" and \"o d g\".\n",
    "\n",
    "\n"
   ]
  },
  {
   "cell_type": "code",
   "execution_count": 37,
   "metadata": {},
   "outputs": [],
   "source": [
    "def Anagram(s1,s2):\n",
    "    s1 = s1.replace(' ','').lower()\n",
    "    s2 = s2.replace(' ','').lower()\n",
    "    \n",
    "    if len(s1)!=len(s2):\n",
    "        return False\n",
    "    \n",
    "    count = {}\n",
    "    \n",
    "    for letter in s1:\n",
    "        if letter in count:\n",
    "            count[letter] += 1\n",
    "        else:\n",
    "            count[letter] = 1\n",
    "            \n",
    "     \n",
    "    for letter in s2:\n",
    "        if letter in count:\n",
    "            count[letter] -= 1\n",
    "        else:\n",
    "            count[letter] = 1\n",
    "            \n",
    "    for k in count:\n",
    "        if count[k]!=0:\n",
    "            return False\n",
    "    return True\n",
    "    \n",
    "    \n",
    "    \n",
    "                \n",
    "                "
   ]
  },
  {
   "cell_type": "code",
   "execution_count": 39,
   "metadata": {},
   "outputs": [
    {
     "data": {
      "text/plain": [
       "True"
      ]
     },
     "execution_count": 39,
     "metadata": {},
     "output_type": "execute_result"
    }
   ],
   "source": [
    "Anagram('god','dog')"
   ]
  },
  {
   "cell_type": "code",
   "execution_count": 40,
   "metadata": {},
   "outputs": [],
   "source": [
    "# Different approach\n",
    "\n",
    "def Anagram(s1,s2):\n",
    "    s1 = s1.replace(' ','').lower()\n",
    "    s2 = s2.replace(' ','').lower()\n",
    "    \n",
    "    return sorted(s1)==sorted(s2)"
   ]
  },
  {
   "cell_type": "code",
   "execution_count": 41,
   "metadata": {},
   "outputs": [
    {
     "data": {
      "text/plain": [
       "True"
      ]
     },
     "execution_count": 41,
     "metadata": {},
     "output_type": "execute_result"
    }
   ],
   "source": [
    "Anagram('god','dog')"
   ]
  },
  {
   "cell_type": "markdown",
   "metadata": {},
   "source": [
    "# Array Pair Sum\n",
    "\n",
    "## Problem\n",
    "Given an integer array, output all the unique pairs that sum up to a specific value k.\n",
    "\n",
    "So the input:\n",
    "\n",
    "pair_sum([1,3,2,2],4)\n",
    "\n",
    "would return 2 pairs:\n",
    "\n",
    " (1,3)\n",
    " (2,2)\n",
    "\n",
    "NOTE: FOR TESTING PURPOSES< CHANGE YOUR FUNCTION SO IT OUTPUTS THE NUMBER OF PAIRS\n",
    "\n"
   ]
  },
  {
   "cell_type": "code",
   "execution_count": 45,
   "metadata": {},
   "outputs": [],
   "source": [
    "def pair_sum(arr,k):\n",
    "    if len(arr) < 2:\n",
    "        return 'error'\n",
    "    \n",
    "    seen = set()\n",
    "    output = set()\n",
    "    \n",
    "    for num in arr:\n",
    "        target = k-num\n",
    "        \n",
    "        if target  not in seen:\n",
    "            seen.add(num)\n",
    "        else:\n",
    "            output.add((min(num,target),max(num,target)))\n",
    "    print('\\n'.join(map(str,list(output))))"
   ]
  },
  {
   "cell_type": "code",
   "execution_count": 46,
   "metadata": {},
   "outputs": [
    {
     "name": "stdout",
     "output_type": "stream",
     "text": [
      "(1, 3)\n",
      "(2, 2)\n"
     ]
    }
   ],
   "source": [
    "pair_sum([1,3,2,2],4)"
   ]
  },
  {
   "cell_type": "markdown",
   "metadata": {},
   "source": [
    "# Find the Missing Element\n",
    "\n",
    "## Problem\n",
    "Consider an array of non-negative integers. A second array is formed by shuffling the elements of the first array and deleting a random element. Given these two arrays, find which element is missing in the second array.\n",
    "\n",
    "Here is an example input, the first array is shuffled and the number 5 is removed to construct the second array.\n",
    "\n",
    "Input:\n",
    "\n",
    "finder([1,2,3,4,5,6,7],[3,7,2,1,4,6])\n",
    "\n",
    "Output:\n",
    "\n",
    "5 is the missing number\n"
   ]
  },
  {
   "cell_type": "code",
   "execution_count": 54,
   "metadata": {},
   "outputs": [],
   "source": [
    "# If we don’t want to deal with the special case of duplicate numbers, we can sort both arrays and iterate over them simultaneously.\n",
    "# Once two iterators have different values we can stop. \n",
    "# The value of the first iterator is the missing element. \n",
    "# This solution is also O(NlogN).\n",
    "\n",
    "def finder(arr1,arr2):\n",
    "    arr1.sort()\n",
    "    arr2.sort()\n",
    "    \n",
    "    for num1,num2 in zip(arr1,arr2):\n",
    "        if num1!=num2:\n",
    "            return num1\n",
    "    return arr1[-1]"
   ]
  },
  {
   "cell_type": "code",
   "execution_count": 55,
   "metadata": {},
   "outputs": [
    {
     "data": {
      "text/plain": [
       "5"
      ]
     },
     "execution_count": 55,
     "metadata": {},
     "output_type": "execute_result"
    }
   ],
   "source": [
    "finder([1,2,3,4,5,6,7],[3,7,2,1,4,6])"
   ]
  },
  {
   "cell_type": "code",
   "execution_count": 57,
   "metadata": {},
   "outputs": [],
   "source": [
    "import collections\n",
    "def finder(arr1,arr2):\n",
    "    d = collections.defaultdict(int)\n",
    "    \n",
    "    for num in arr2:\n",
    "        d[num] +=1\n",
    "        \n",
    "    for num in arr1:\n",
    "        if d[num] == 0:\n",
    "            return num\n",
    "        else:\n",
    "            d[num] -=1"
   ]
  },
  {
   "cell_type": "code",
   "execution_count": 58,
   "metadata": {},
   "outputs": [
    {
     "data": {
      "text/plain": [
       "5"
      ]
     },
     "execution_count": 58,
     "metadata": {},
     "output_type": "execute_result"
    }
   ],
   "source": [
    "finder([1,2,3,4,5,6,7],[3,7,2,1,4,6])\n"
   ]
  },
  {
   "cell_type": "code",
   "execution_count": 60,
   "metadata": {},
   "outputs": [],
   "source": [
    "def finder(arr1,arr2):\n",
    "    result = 0\n",
    "    for num in arr1+arr2:\n",
    "        result ^=num #result xor num\n",
    "        print(result)\n",
    "    return result\n"
   ]
  },
  {
   "cell_type": "code",
   "execution_count": 62,
   "metadata": {},
   "outputs": [
    {
     "name": "stdout",
     "output_type": "stream",
     "text": [
      "5\n",
      "0\n",
      "7\n",
      "0\n",
      "5\n",
      "2\n",
      "5\n"
     ]
    },
    {
     "data": {
      "text/plain": [
       "5"
      ]
     },
     "execution_count": 62,
     "metadata": {},
     "output_type": "execute_result"
    }
   ],
   "source": [
    "finder([5,5,7,7],[5,7,7])"
   ]
  },
  {
   "cell_type": "code",
   "execution_count": 73,
   "metadata": {},
   "outputs": [
    {
     "data": {
      "text/plain": [
       "9"
      ]
     },
     "execution_count": 73,
     "metadata": {},
     "output_type": "execute_result"
    }
   ],
   "source": [
    "10^3"
   ]
  },
  {
   "cell_type": "markdown",
   "metadata": {},
   "source": [
    "# Largest Continuous Sum\n",
    "\n",
    "## Problem\n",
    "\n",
    "Given an array of integers (positive and negative) find the largest continuous sum.\n",
    "\n",
    "[1,2,-1,3,4,10,10,-10,-1]\n",
    "\n",
    "ans 29\n",
    "\n"
   ]
  },
  {
   "cell_type": "code",
   "execution_count": 76,
   "metadata": {},
   "outputs": [],
   "source": [
    "def LargestSum(arr):\n",
    "    \n",
    "    if len(arr) == 0:\n",
    "        return 0\n",
    "    current_sum=max_sum=arr[0]  # Start the max and current sum at the first element\n",
    "    \n",
    "    for num in arr[1:]:\n",
    "        current_sum = max(current_sum+num,num)\n",
    "        max_sum = max(current_sum,max_sum)\n",
    "    return max_sum"
   ]
  },
  {
   "cell_type": "code",
   "execution_count": 77,
   "metadata": {},
   "outputs": [
    {
     "data": {
      "text/plain": [
       "29"
      ]
     },
     "execution_count": 77,
     "metadata": {},
     "output_type": "execute_result"
    }
   ],
   "source": [
    "LargestSum([1,2,-1,3,4,10,10,-10,-1])"
   ]
  },
  {
   "cell_type": "code",
   "execution_count": 80,
   "metadata": {},
   "outputs": [],
   "source": [
    "def Sum(arr):\n",
    "    if len(arr)==0:\n",
    "        return 0\n",
    "    count = arr[0]\n",
    "    for num in arr[1:]:\n",
    "        count = count+num\n",
    "    return count"
   ]
  },
  {
   "cell_type": "code",
   "execution_count": 81,
   "metadata": {},
   "outputs": [
    {
     "data": {
      "text/plain": [
       "18"
      ]
     },
     "execution_count": 81,
     "metadata": {},
     "output_type": "execute_result"
    }
   ],
   "source": [
    "Sum([1,2,-1,3,4,10,10,-10,-1])"
   ]
  },
  {
   "cell_type": "code",
   "execution_count": null,
   "metadata": {},
   "outputs": [],
   "source": []
  }
 ],
 "metadata": {
  "kernelspec": {
   "display_name": "Python 3",
   "language": "python",
   "name": "python3"
  },
  "language_info": {
   "codemirror_mode": {
    "name": "ipython",
    "version": 3
   },
   "file_extension": ".py",
   "mimetype": "text/x-python",
   "name": "python",
   "nbconvert_exporter": "python",
   "pygments_lexer": "ipython3",
   "version": "3.6.5"
  }
 },
 "nbformat": 4,
 "nbformat_minor": 2
}
